{
 "cells": [
  {
   "cell_type": "markdown",
   "metadata": {},
   "source": [
    "Pythonic OOP and encapsulation"
   ]
  },
  {
   "cell_type": "code",
   "execution_count": 13,
   "metadata": {},
   "outputs": [
    {
     "ename": "TypeError",
     "evalue": "Person.__init__() got an unexpected keyword argument 'woman'",
     "output_type": "error",
     "traceback": [
      "\u001b[0;31m---------------------------------------------------------------------------\u001b[0m",
      "\u001b[0;31mTypeError\u001b[0m                                 Traceback (most recent call last)",
      "Cell \u001b[0;32mIn[13], line 13\u001b[0m\n\u001b[1;32m     10\u001b[0m     \u001b[38;5;28;01mdef\u001b[39;00m \u001b[38;5;21m__repr__\u001b[39m(\u001b[38;5;28mself\u001b[39m):\n\u001b[1;32m     11\u001b[0m         \u001b[38;5;28;01mreturn\u001b[39;00m \u001b[38;5;124mf\u001b[39m\u001b[38;5;124m'\u001b[39m\u001b[38;5;132;01m{\u001b[39;00m\u001b[38;5;28mself\u001b[39m\u001b[38;5;241m.\u001b[39m\u001b[38;5;18m__dict__\u001b[39m\u001b[38;5;132;01m}\u001b[39;00m\u001b[38;5;124m'\u001b[39m\n\u001b[0;32m---> 13\u001b[0m person1 \u001b[38;5;241m=\u001b[39m \u001b[43mPerson\u001b[49m\u001b[43m(\u001b[49m\u001b[38;5;124;43m\"\u001b[39;49m\u001b[38;5;124;43mAlice\u001b[39;49m\u001b[38;5;124;43m\"\u001b[39;49m\u001b[43m,\u001b[49m\u001b[43m \u001b[49m\u001b[38;5;241;43m25\u001b[39;49m\u001b[43m,\u001b[49m\u001b[43m \u001b[49m\u001b[43mwoman\u001b[49m\u001b[38;5;241;43m=\u001b[39;49m\u001b[38;5;28;43;01mTrue\u001b[39;49;00m\u001b[43m)\u001b[49m \u001b[38;5;66;03m#kalder funktion, kalder __new__ som returnerer self.\u001b[39;00m\n\u001b[1;32m     14\u001b[0m person1\u001b[38;5;241m.\u001b[39msay_hello()\n\u001b[1;32m     16\u001b[0m \u001b[38;5;28mprint\u001b[39m(person1)\n",
      "\u001b[0;31mTypeError\u001b[0m: Person.__init__() got an unexpected keyword argument 'woman'"
     ]
    }
   ],
   "source": [
    "class Person:\n",
    "    klassevariabel = 0\n",
    "    def __init__(self, *args): # __new__, *args *kwargs\n",
    "        self.args = args\n",
    "\n",
    "    def say_hello(self):\n",
    "        print(f\"Hello, my name is {self.args[0]} and I am {self.args[1]} years old.\")\n",
    "    def __str__(self):\n",
    "        return f'{self.args[0]}, {self.args[1]}'\n",
    "    def __repr__(self):\n",
    "        return f'{self.__dict__}'\n",
    "\n",
    "person1 = Person(\"Alice\", 25) #kalder funktion, kalder __new__ som returnerer self.\n",
    "person1.say_hello()\n",
    "\n",
    "print(person1)\n",
    "person1 # IDE \n",
    "\n",
    "# tilføj attribut runtime\n",
    "person1.hair_color = \"brown\"\n",
    "person1\n",
    "\n"
   ]
  },
  {
   "cell_type": "code",
   "execution_count": 9,
   "metadata": {},
   "outputs": [
    {
     "ename": "AttributeError",
     "evalue": "can't set attribute 'balance'",
     "output_type": "error",
     "traceback": [
      "\u001b[0;31m---------------------------------------------------------------------------\u001b[0m",
      "\u001b[0;31mAttributeError\u001b[0m                            Traceback (most recent call last)",
      "Cell \u001b[0;32mIn[9], line 13\u001b[0m\n\u001b[1;32m      8\u001b[0m         \u001b[38;5;28;01mreturn\u001b[39;00m \u001b[38;5;28mself\u001b[39m\u001b[38;5;241m.\u001b[39m_balance\n\u001b[1;32m     12\u001b[0m \u001b[38;5;66;03m# Using properties for encapsulation\u001b[39;00m\n\u001b[0;32m---> 13\u001b[0m account \u001b[38;5;241m=\u001b[39m \u001b[43mBankAccount\u001b[49m\u001b[43m(\u001b[49m\u001b[38;5;241;43m1000\u001b[39;49m\u001b[43m)\u001b[49m \u001b[38;5;66;03m# nu laves der ikke tjek i construcor. For tjek, fjern _ før balance i __init__\u001b[39;00m\n\u001b[1;32m     14\u001b[0m \u001b[38;5;28mprint\u001b[39m(account\u001b[38;5;241m.\u001b[39mbalance)  \u001b[38;5;66;03m# Output: 1000\u001b[39;00m\n\u001b[1;32m     15\u001b[0m account\u001b[38;5;241m.\u001b[39mbalance \u001b[38;5;241m=\u001b[39m \u001b[38;5;241m1500\u001b[39m\n",
      "Cell \u001b[0;32mIn[9], line 4\u001b[0m, in \u001b[0;36mBankAccount.__init__\u001b[0;34m(self, balance)\u001b[0m\n\u001b[1;32m      3\u001b[0m \u001b[38;5;28;01mdef\u001b[39;00m \u001b[38;5;21m__init__\u001b[39m(\u001b[38;5;28mself\u001b[39m, balance):\n\u001b[0;32m----> 4\u001b[0m     \u001b[38;5;28;43mself\u001b[39;49m\u001b[38;5;241;43m.\u001b[39;49m\u001b[43mbalance\u001b[49m \u001b[38;5;241m=\u001b[39m balance\n",
      "\u001b[0;31mAttributeError\u001b[0m: can't set attribute 'balance'"
     ]
    }
   ],
   "source": [
    "#Enkapsulering af data med getter og setter:\n",
    "class BankAccount:\n",
    "    def __init__(self, balance):\n",
    "        self.balance = balance # _balance er private, er wrapper\n",
    "\n",
    "    @property   # getter for _balance\n",
    "    def balance(self):\n",
    "        return self._balance\n",
    "\n",
    "    @balance.setter # at ændre balance opdatere _balance\n",
    "    def balance(self, value):  # tjek laves i setter\n",
    "        if value >= 0:\n",
    "            self._balance = value\n",
    "        else:\n",
    "            raise ValueError(\"Balance cannot be negative.\")\n",
    "\n",
    "# Using properties for encapsulation\n",
    "account = BankAccount(-1000) # nu laves der ikke tjek i construcor. For tjek, fjern _ før balance i __init__\n",
    "print(account.balance)  # Output: 1000\n",
    "account.balance = 1500\n",
    "print(account.balance)  # Output: 1500\n",
    "# account.balance kalder setteren og derfor laves check\n",
    "# den laver ikke check i __init__\n",
    "account.balance = -500  # Raises ValueError: Balance cannot be negative.\n"
   ]
  }
 ],
 "metadata": {
  "kernelspec": {
   "display_name": "Python 3",
   "language": "python",
   "name": "python3"
  },
  "language_info": {
   "codemirror_mode": {
    "name": "ipython",
    "version": 3
   },
   "file_extension": ".py",
   "mimetype": "text/x-python",
   "name": "python",
   "nbconvert_exporter": "python",
   "pygments_lexer": "ipython3",
   "version": "3.10.12"
  },
  "orig_nbformat": 4
 },
 "nbformat": 4,
 "nbformat_minor": 2
}
