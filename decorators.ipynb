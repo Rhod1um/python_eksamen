{
 "cells": [
  {
   "cell_type": "markdown",
   "metadata": {},
   "source": [
    "Functions and decorators"
   ]
  },
  {
   "cell_type": "markdown",
   "metadata": {},
   "source": [
    "Basale funktioner\n",
    "indre og ydre funktioner\n",
    "funktioner som first class citizens\n",
    "decorators\n",
    "build-in functions som er klasser"
   ]
  },
  {
   "cell_type": "code",
   "execution_count": null,
   "metadata": {},
   "outputs": [],
   "source": [
    "#inner functions, frst class functions, build-in functions der egenglit er klasser\n",
    "\n",
    "# decorators er der for at man kan ændre i library code uden at brugerkode lægger mærke til det\n",
    "# også for bug fixes\n",
    "\n",
    "#Funktioner er first class citizens - funktionel programmering"
   ]
  },
  {
   "cell_type": "code",
   "execution_count": 19,
   "metadata": {},
   "outputs": [
    {
     "name": "stdout",
     "output_type": "stream",
     "text": [
      "<class 'NoneType'>\n",
      "True\n",
      "<built-in function len>\n"
     ]
    }
   ],
   "source": [
    "# simpel funktion\n",
    "\n",
    "def foo():\n",
    "    pass\n",
    "\n",
    "print(type(foo()))\n",
    "\n",
    "print(callable(foo))\n",
    "\n",
    "def foo(x):\n",
    "    return x\n",
    "\n",
    "print(foo(len))\n"
   ]
  },
  {
   "cell_type": "code",
   "execution_count": 21,
   "metadata": {},
   "outputs": [
    {
     "name": "stdout",
     "output_type": "stream",
     "text": [
      "<function outer.<locals>.inner at 0x7f19d5b97d90>\n"
     ]
    },
    {
     "data": {
      "text/plain": [
       "'Hello from inner'"
      ]
     },
     "execution_count": 21,
     "metadata": {},
     "output_type": "execute_result"
    }
   ],
   "source": [
    "# indre og ydre funktioner\n",
    "\n",
    "def outer():\n",
    "    \n",
    "    def inner():\n",
    "        return 'Hello from inner'\n",
    "    return inner\n",
    "\n",
    "print(outer())\n",
    "outer()()\n",
    "# IIFE "
   ]
  },
  {
   "cell_type": "markdown",
   "metadata": {},
   "source": [
    "Decorator"
   ]
  },
  {
   "cell_type": "code",
   "execution_count": 2,
   "metadata": {},
   "outputs": [],
   "source": [
    "def myDecorator(func): #tager grundfunktion\n",
    "    def wrapper(*args): #bruger args så den kan tage hvad som helst\n",
    "        x = 'Hello from wrapper - ' # decorators formål er at vi kan lægge mere på kode, gøres her før og efter\n",
    "        x += func(*args)            # her eksmeplicifceres det med konkatinering\n",
    "        #så vi tager funktion ind som siger Hello og kalder den (husk paranteser!) så vi kan adde dens returværdi, Hello, til Hello from wrapper\n",
    "        x += ' - end of wrapper'\n",
    "        return x\n",
    "    return wrapper  #returnere hele wrapper funktionen, sådan skal det være, den skal ikke eksekveres"
   ]
  },
  {
   "cell_type": "code",
   "execution_count": 5,
   "metadata": {},
   "outputs": [
    {
     "data": {
      "text/plain": [
       "'Hello from wrapper - Hello V - end of wrapper'"
      ]
     },
     "execution_count": 5,
     "metadata": {},
     "output_type": "execute_result"
    }
   ],
   "source": [
    "# @myDecorator # gør det samme som nedenstående, giver decorator grundfunktionens navn\n",
    "def message(x):   #grundfunktion\n",
    "    return f'Hello {x}'\n",
    "\n",
    "#message()\n",
    "#vi vil have mere på message(), den skal udskrive mere en Hello, ændres i wrapper\n",
    "\n",
    "myDecorator(message)  #bruger wrapper, funktion er argument uden eksekvering ()\n",
    "#er funktionsreference\n",
    "\n",
    "x = myDecorator(message)\n",
    "#x()  #giver det man forventer: 'Hello from wrapperHello - end of wrapper'\n",
    "\n",
    "\n",
    "message = myDecorator(message) # decoratoren kaldes det samme som grundfunktionen \n",
    "# da det skal ligne man kalder grundfunktionen\n",
    "\n",
    "message('V')\n",
    "\n"
   ]
  },
  {
   "cell_type": "code",
   "execution_count": 29,
   "metadata": {},
   "outputs": [
    {
     "name": "stdout",
     "output_type": "stream",
     "text": [
      "True\n",
      "True\n",
      "True\n"
     ]
    }
   ],
   "source": [
    "# build-in funktioner som er klasser\n",
    "\n",
    "import builtins\n",
    "\n",
    "print(isinstance(range, type))\n",
    "\n",
    "print(isinstance(bool, type)) \n",
    "\n",
    "print(isinstance(dict, type)) "
   ]
  }
 ],
 "metadata": {
  "kernelspec": {
   "display_name": "Python 3",
   "language": "python",
   "name": "python3"
  },
  "language_info": {
   "codemirror_mode": {
    "name": "ipython",
    "version": 3
   },
   "file_extension": ".py",
   "mimetype": "text/x-python",
   "name": "python",
   "nbconvert_exporter": "python",
   "pygments_lexer": "ipython3",
   "version": "3.10.12"
  }
 },
 "nbformat": 4,
 "nbformat_minor": 2
}
