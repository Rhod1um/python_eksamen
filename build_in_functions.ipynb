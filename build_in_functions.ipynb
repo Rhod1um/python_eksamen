{
 "cells": [
  {
   "cell_type": "markdown",
   "metadata": {},
   "source": [
    "Build-in functions\n",
    "\n",
    "https://docs.python.org/3/library/functions.html "
   ]
  },
  {
   "cell_type": "markdown",
   "metadata": {},
   "source": [
    "Fordele ved python:\n",
    "\n",
    "let at lære\n",
    "brugervenligt\n",
    "letlæseligt\n",
    "konkret navngivning\n",
    "overholder bestemte patterns og best practices\n",
    "er hurtig at skrive for udviklere"
   ]
  },
  {
   "cell_type": "markdown",
   "metadata": {},
   "source": [
    "build-in functions har tydelige og deskriptive navne\n",
    "de er konsekvente i deres parametertyper, fx at min() og max() tager iterables\n",
    "gælder også returtyper fx returnerer int() en int\n",
    "øger brugervenlighed"
   ]
  },
  {
   "cell_type": "code",
   "execution_count": null,
   "metadata": {},
   "outputs": [],
   "source": [
    "# eksempler på build in functions\n",
    "numbers = [1, 2, 3, 4, 5]\n",
    "\n",
    "length = len(numbers)\n",
    "print(length)\n",
    "\n",
    "total = sum(numbers)\n",
    "print(total) \n",
    "\n",
    "maximum = max(numbers)\n",
    "print(maximum) \n",
    "\n",
    "minimum = min(numbers)\n",
    "print(minimum) "
   ]
  },
  {
   "cell_type": "code",
   "execution_count": 2,
   "metadata": {},
   "outputs": [
    {
     "name": "stdout",
     "output_type": "stream",
     "text": [
      "Alice 25\n",
      "Bob 30\n"
     ]
    }
   ],
   "source": [
    "# build-in function og eget objekt\n",
    "class Person:\n",
    "    def __init__(self, name, age):\n",
    "        self.name = name\n",
    "        self.age = age\n",
    "\n",
    "people = [\n",
    "    Person(\"Alice\", 25),\n",
    "    Person(\"Bob\", 30),\n",
    "    Person(\"Anna\", 20)\n",
    "]\n",
    "\n",
    "# filter() - returnerer ny liste som satisfies condition\n",
    "filtered_people = filter(lambda person: person.age >= 25, people)\n",
    "for person in filtered_people:\n",
    "    print(person.name, person.age)\n",
    "\n"
   ]
  },
  {
   "cell_type": "code",
   "execution_count": 7,
   "metadata": {},
   "outputs": [
    {
     "name": "stdout",
     "output_type": "stream",
     "text": [
      "Deck(cards = ['A', 'K', 4, 7, 'A', 'K', 4, 7])\n",
      "C\n"
     ]
    },
    {
     "data": {
      "text/plain": [
       "{'cards': ['C', 'K', 4, 7]}"
      ]
     },
     "execution_count": 7,
     "metadata": {},
     "output_type": "execute_result"
    }
   ],
   "source": [
    "# datamodel og build-in functions\n",
    "# protokol: top-level syntax hører til dunder method\n",
    "\n",
    "class Deck:\n",
    "    def __init__(self):\n",
    "        self.cards = ['A', 'K', 4, 7]\n",
    "\n",
    "    def __getitem__(self, key):\n",
    "        return self.cards[key]\n",
    "    \n",
    "    def __setitem__(self, key, value):\n",
    "        self.cards[key] = value\n",
    "\n",
    "    def __delitem__(self, key):\n",
    "        del(self.cards[key])\n",
    "    \n",
    "    def __len__(self):\n",
    "        return len(self.cards)\n",
    "    \n",
    "    def __add__(self, other):\n",
    "        new_deck = Deck()\n",
    "        new_deck.cards = self.cards + other.cards\n",
    "        return new_deck\n",
    "\n",
    "    def __repr__(self):\n",
    "        return f'{self.__dict__}' #dokumentation: skal returnere string representation af objektet\n",
    "    \n",
    "    def __str__(self):\n",
    "        return f'Deck(cards = {self.cards})'\n",
    "\n",
    "deck1 = Deck()\n",
    "deck2 = Deck()\n",
    "\n",
    "print(deck1 + deck2)\n",
    "\n",
    "deck1[0] = 'C'  # kalder __setitem__\n",
    "print(deck1[0])\n",
    "deck1\n"
   ]
  }
 ],
 "metadata": {
  "kernelspec": {
   "display_name": "Python 3",
   "language": "python",
   "name": "python3"
  },
  "language_info": {
   "codemirror_mode": {
    "name": "ipython",
    "version": 3
   },
   "file_extension": ".py",
   "mimetype": "text/x-python",
   "name": "python",
   "nbconvert_exporter": "python",
   "pygments_lexer": "ipython3",
   "version": "3.10.12"
  }
 },
 "nbformat": 4,
 "nbformat_minor": 2
}
